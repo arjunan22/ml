{
 "cells": [
  {
   "cell_type": "code",
   "execution_count": 1,
   "metadata": {},
   "outputs": [],
   "source": [
    "import pandas as pd\n",
    "import numpy as np\n",
    "import seaborn as sns\n",
    "import matplotlib.pyplot as plt\n",
    "%matplotlib inline\n",
    "from collections import Counter"
   ]
  },
  {
   "cell_type": "code",
   "execution_count": 6,
   "metadata": {},
   "outputs": [],
   "source": [
    "train_input=pd.read_csv(\"Auction_cars_train.csv\")\n",
    "test_input=pd.read_csv(\"Auction_cars_test.csv\")\n"
   ]
  },
  {
   "cell_type": "code",
   "execution_count": 3,
   "metadata": {
    "scrolled": true
   },
   "outputs": [
    {
     "name": "stdout",
     "output_type": "stream",
     "text": [
      "Index([u'RefId', u'IsBadBuy', u'PurchDate', u'Auction', u'VehYear',\n",
      "       u'VehicleAge', u'Make', u'Model', u'Trim', u'SubModel', u'Color',\n",
      "       u'Transmission', u'WheelTypeID', u'WheelType', u'VehOdo',\n",
      "       u'Nationality', u'Size', u'TopThreeAmericanName',\n",
      "       u'MMRAcquisitionAuctionAveragePrice',\n",
      "       u'MMRAcquisitionAuctionCleanPrice', u'MMRAcquisitionRetailAveragePrice',\n",
      "       u'MMRAcquisitonRetailCleanPrice', u'MMRCurrentAuctionAveragePrice',\n",
      "       u'MMRCurrentAuctionCleanPrice', u'MMRCurrentRetailAveragePrice',\n",
      "       u'MMRCurrentRetailCleanPrice', u'PRIMEUNIT', u'AUCGUART', u'BYRNO',\n",
      "       u'VNZIP1', u'VNST', u'VehBCost', u'IsOnlineSale', u'WarrantyCost'],\n",
      "      dtype='object')\n",
      "Index([u'RefId', u'PurchDate', u'Auction', u'VehYear', u'VehicleAge', u'Make',\n",
      "       u'Model', u'Trim', u'SubModel', u'Color', u'Transmission',\n",
      "       u'WheelTypeID', u'WheelType', u'VehOdo', u'Nationality', u'Size',\n",
      "       u'TopThreeAmericanName', u'MMRAcquisitionAuctionAveragePrice',\n",
      "       u'MMRAcquisitionAuctionCleanPrice', u'MMRAcquisitionRetailAveragePrice',\n",
      "       u'MMRAcquisitonRetailCleanPrice', u'MMRCurrentAuctionAveragePrice',\n",
      "       u'MMRCurrentAuctionCleanPrice', u'MMRCurrentRetailAveragePrice',\n",
      "       u'MMRCurrentRetailCleanPrice', u'PRIMEUNIT', u'AUCGUART', u'BYRNO',\n",
      "       u'VNZIP1', u'VNST', u'VehBCost', u'IsOnlineSale', u'WarrantyCost'],\n",
      "      dtype='object')\n"
     ]
    }
   ],
   "source": [
    "print train_input.columns\n",
    "print test_input.columns"
   ]
  },
  {
   "cell_type": "code",
   "execution_count": 4,
   "metadata": {},
   "outputs": [
    {
     "data": {
      "text/plain": [
       "RefId                                    0\n",
       "IsBadBuy                                 0\n",
       "PurchDate                                0\n",
       "Auction                                  0\n",
       "VehYear                                  0\n",
       "VehicleAge                               0\n",
       "Make                                     0\n",
       "Model                                    0\n",
       "Trim                                  1692\n",
       "SubModel                                 5\n",
       "Color                                    5\n",
       "Transmission                             6\n",
       "WheelTypeID                           2216\n",
       "WheelType                             2221\n",
       "VehOdo                                   0\n",
       "Nationality                              4\n",
       "Size                                     4\n",
       "TopThreeAmericanName                     4\n",
       "MMRAcquisitionAuctionAveragePrice       13\n",
       "MMRAcquisitionAuctionCleanPrice         13\n",
       "MMRAcquisitionRetailAveragePrice        13\n",
       "MMRAcquisitonRetailCleanPrice           13\n",
       "MMRCurrentAuctionAveragePrice          220\n",
       "MMRCurrentAuctionCleanPrice            220\n",
       "MMRCurrentRetailAveragePrice           220\n",
       "MMRCurrentRetailCleanPrice             220\n",
       "PRIMEUNIT                            49047\n",
       "AUCGUART                             49047\n",
       "BYRNO                                    0\n",
       "VNZIP1                                   0\n",
       "VNST                                     0\n",
       "VehBCost                                 0\n",
       "IsOnlineSale                             0\n",
       "WarrantyCost                             0\n",
       "dtype: int64"
      ]
     },
     "execution_count": 4,
     "metadata": {},
     "output_type": "execute_result"
    }
   ],
   "source": [
    "train_input.isnull().sum()"
   ]
  },
  {
   "cell_type": "code",
   "execution_count": 5,
   "metadata": {},
   "outputs": [
    {
     "data": {
      "text/plain": [
       "RefId                                    0\n",
       "PurchDate                                0\n",
       "Auction                                  0\n",
       "VehYear                                  0\n",
       "VehicleAge                               0\n",
       "Make                                     0\n",
       "Model                                    0\n",
       "Trim                                   378\n",
       "SubModel                                 0\n",
       "Color                                    0\n",
       "Transmission                             0\n",
       "WheelTypeID                            580\n",
       "WheelType                              580\n",
       "VehOdo                                   0\n",
       "Nationality                              1\n",
       "Size                                     1\n",
       "TopThreeAmericanName                     1\n",
       "MMRAcquisitionAuctionAveragePrice        2\n",
       "MMRAcquisitionAuctionCleanPrice          2\n",
       "MMRAcquisitionRetailAveragePrice         2\n",
       "MMRAcquisitonRetailCleanPrice            2\n",
       "MMRCurrentAuctionAveragePrice           55\n",
       "MMRCurrentAuctionCleanPrice             55\n",
       "MMRCurrentRetailAveragePrice            55\n",
       "MMRCurrentRetailCleanPrice              55\n",
       "PRIMEUNIT                            12316\n",
       "AUCGUART                             12316\n",
       "BYRNO                                    0\n",
       "VNZIP1                                   0\n",
       "VNST                                     0\n",
       "VehBCost                                 0\n",
       "IsOnlineSale                             0\n",
       "WarrantyCost                             0\n",
       "dtype: int64"
      ]
     },
     "execution_count": 5,
     "metadata": {},
     "output_type": "execute_result"
    }
   ],
   "source": [
    "test_input.isnull().sum()"
   ]
  },
  {
   "cell_type": "code",
   "execution_count": 25,
   "metadata": {},
   "outputs": [
    {
     "data": {
      "text/plain": [
       "(64397, 34)"
      ]
     },
     "execution_count": 25,
     "metadata": {},
     "output_type": "execute_result"
    }
   ],
   "source": [
    "all=pd.concat([train_input,test_input],axis=0)\n",
    "all.shape"
   ]
  },
  {
   "cell_type": "code",
   "execution_count": 26,
   "metadata": {
    "scrolled": true
   },
   "outputs": [
    {
     "name": "stdout",
     "output_type": "stream",
     "text": [
      "      AUCGUART Auction  BYRNO  Color  IsBadBuy  IsOnlineSale  \\\n",
      "12875      NaN   ADESA  18111   BLUE       NaN             0   \n",
      "12876      NaN   ADESA  18881  BLACK       NaN             0   \n",
      "12877      NaN   ADESA  18881   BLUE       NaN             0   \n",
      "12878      NaN   ADESA  18111  BLACK       NaN             0   \n",
      "12879      NaN   ADESA  18111  GREEN       NaN             0   \n",
      "\n",
      "       MMRAcquisitionAuctionAveragePrice  MMRAcquisitionAuctionCleanPrice  \\\n",
      "12875                             7963.0                           8466.0   \n",
      "12876                             7165.0                           8757.0   \n",
      "12877                             6204.0                           7390.0   \n",
      "12878                            12195.0                          13568.0   \n",
      "12879                             8929.0                          10605.0   \n",
      "\n",
      "       MMRAcquisitionRetailAveragePrice  MMRAcquisitonRetailCleanPrice  \\\n",
      "12875                            9100.0                         9643.0   \n",
      "12876                            8238.0                         9958.0   \n",
      "12877                            7200.0                         8481.0   \n",
      "12878                           13671.0                        15153.0   \n",
      "12879                           10143.0                        11953.0   \n",
      "\n",
      "          ...       Trim  VNST  VNZIP1  VehBCost VehOdo VehYear VehicleAge  \\\n",
      "12875     ...         SE    GA   30212    8200.0  64846    2008          1   \n",
      "12876     ...         LS    GA   30212    6600.0  74151    2005          4   \n",
      "12877     ...         EX    GA   30212    6000.0  44622    2007          2   \n",
      "12878     ...        Bas    GA   30212   10400.0  69941    2006          3   \n",
      "12879     ...        Bas    GA   30212    7600.0  68127    2006          3   \n",
      "\n",
      "      WarrantyCost WheelType  WheelTypeID  \n",
      "12875         1118    Covers          2.0  \n",
      "12876         1506       NaN          NaN  \n",
      "12877          482    Covers          2.0  \n",
      "12878         1606    Covers          2.0  \n",
      "12879         1215    Covers          2.0  \n",
      "\n",
      "[5 rows x 34 columns]\n"
     ]
    }
   ],
   "source": [
    "print all.tail()\n",
    "all.reset_index(inplace=True,drop=True)"
   ]
  },
  {
   "cell_type": "code",
   "execution_count": 27,
   "metadata": {},
   "outputs": [
    {
     "name": "stdout",
     "output_type": "stream",
     "text": [
      "Counter({'SILVER': 13139, 'WHITE': 10693, 'BLUE': 9161, 'GREY': 6899, 'BLACK': 6712, 'RED': 5560, 'GOLD': 4620, 'GREEN': 2815, 'MAROON': 1807, 'BEIGE': 1393, 'BROWN': 382, 'ORANGE': 362, 'PURPLE': 333, 'YELLOW': 219, 'OTHER': 213, 'NOT AVAIL': 84, nan: 5})\n"
     ]
    },
    {
     "data": {
      "text/plain": [
       "0.0    45166\n",
       "1.0     6351\n",
       "Name: IsBadBuy, dtype: int64"
      ]
     },
     "execution_count": 27,
     "metadata": {},
     "output_type": "execute_result"
    }
   ],
   "source": [
    "print Counter(all['Color'])\n",
    "all['IsBadBuy'].value_counts()"
   ]
  },
  {
   "cell_type": "code",
   "execution_count": 28,
   "metadata": {},
   "outputs": [
    {
     "data": {
      "text/plain": [
       "Bas    12360\n",
       "LS      8920\n",
       "SE      8255\n",
       "SXT     3369\n",
       "LT      3120\n",
       "LX      2102\n",
       "Tou     2011\n",
       "EX      1876\n",
       "GLS     1214\n",
       "XLT     1203\n",
       "SEL     1196\n",
       "Spo     1110\n",
       "SLT     1056\n",
       "Lim      852\n",
       "Lar      805\n",
       "ST       748\n",
       "GT       695\n",
       "2        685\n",
       "XLS      679\n",
       "ES       615\n",
       "S        563\n",
       "ZX4      545\n",
       "SES      536\n",
       "LE       506\n",
       "SLE      469\n",
       "i        434\n",
       "Cla      418\n",
       "Nor      397\n",
       "XL       391\n",
       "GL       360\n",
       "       ...  \n",
       "DS         7\n",
       "CXS        7\n",
       "Hig        6\n",
       "3 R        6\n",
       "Den        6\n",
       "SE-        6\n",
       "RS         6\n",
       "Cin        5\n",
       "C          5\n",
       "Ove        5\n",
       "Ent        4\n",
       "eC         4\n",
       "Ral        4\n",
       "RT         4\n",
       "Spe        4\n",
       "Car        3\n",
       "Hyb        3\n",
       "Si         3\n",
       "ZR2        3\n",
       "XS         2\n",
       "250        2\n",
       "T5         2\n",
       "GXP        1\n",
       "JLX        1\n",
       "LL         1\n",
       "Maz        1\n",
       "Xsp        1\n",
       "Z24        1\n",
       "Dur        1\n",
       "L 3        1\n",
       "Name: Trim, Length: 130, dtype: int64"
      ]
     },
     "execution_count": 28,
     "metadata": {},
     "output_type": "execute_result"
    }
   ],
   "source": [
    "all['Trim'].value_counts()"
   ]
  },
  {
   "cell_type": "code",
   "execution_count": 29,
   "metadata": {},
   "outputs": [
    {
     "name": "stdout",
     "output_type": "stream",
     "text": [
      "Counter({'Alloy': 31803, 'Covers': 29146, nan: 2801, 'Special': 647})\n",
      "1.0    31803\n",
      "2.0    29146\n",
      "3.0      647\n",
      "0.0        5\n",
      "Name: WheelTypeID, dtype: int64\n"
     ]
    }
   ],
   "source": [
    "print Counter(all['WheelType'])\n",
    "print all['WheelTypeID'].value_counts()"
   ]
  },
  {
   "cell_type": "code",
   "execution_count": 30,
   "metadata": {},
   "outputs": [
    {
     "data": {
      "text/plain": [
       "<seaborn.axisgrid.PairGrid at 0x1d404400>"
      ]
     },
     "execution_count": 30,
     "metadata": {},
     "output_type": "execute_result"
    },
    {
     "data": {
      "image/png": "[encoded data removed]",
      "text/plain": [
       "<Figure size 414.625x360 with 6 Axes>"
      ]
     },
     "metadata": {},
     "output_type": "display_data"
    }
   ],
   "source": [
    "sns.pairplot(all[['VehicleAge','IsBadBuy']],hue=\"IsBadBuy\")"
   ]
  },
  {
   "cell_type": "code",
   "execution_count": 31,
   "metadata": {},
   "outputs": [
    {
     "data": {
      "text/plain": [
       "<seaborn.axisgrid.PairGrid at 0x205af2e8>"
      ]
     },
     "execution_count": 31,
     "metadata": {},
     "output_type": "execute_result"
    },
    {
     "data": {
      "image/png": "[encoded data removed]",
      "text/plain": [
       "<Figure size 414.625x360 with 6 Axes>"
      ]
     },
     "metadata": {},
     "output_type": "display_data"
    }
   ],
   "source": [
    "sns.pairplot(all[['VehBCost','IsBadBuy']],hue=\"IsBadBuy\")"
   ]
  },
  {
   "cell_type": "code",
   "execution_count": 32,
   "metadata": {},
   "outputs": [
    {
     "data": {
      "text/plain": [
       "<seaborn.axisgrid.PairGrid at 0x160f2978>"
      ]
     },
     "execution_count": 32,
     "metadata": {},
     "output_type": "execute_result"
    },
    {
     "data": {
      "image/png": "[encoded data removed]",
      "text/plain": [
       "<Figure size 774.625x720 with 20 Axes>"
      ]
     },
     "metadata": {},
     "output_type": "display_data"
    }
   ],
   "source": [
    "sns.pairplot(all[['VehBCost','VehicleAge','VehYear','IsBadBuy']],hue=\"IsBadBuy\")"
   ]
  },
  {
   "cell_type": "code",
   "execution_count": 33,
   "metadata": {},
   "outputs": [
    {
     "data": {
      "text/plain": [
       "Index([u'AUCGUART', u'Auction', u'BYRNO', u'Color', u'IsBadBuy',\n",
       "       u'IsOnlineSale', u'MMRAcquisitionAuctionAveragePrice',\n",
       "       u'MMRAcquisitionAuctionCleanPrice', u'MMRAcquisitionRetailAveragePrice',\n",
       "       u'MMRAcquisitonRetailCleanPrice', u'MMRCurrentAuctionAveragePrice',\n",
       "       u'MMRCurrentAuctionCleanPrice', u'MMRCurrentRetailAveragePrice',\n",
       "       u'MMRCurrentRetailCleanPrice', u'Make', u'Model', u'Nationality',\n",
       "       u'PRIMEUNIT', u'PurchDate', u'RefId', u'Size', u'SubModel',\n",
       "       u'TopThreeAmericanName', u'Transmission', u'Trim', u'VNST', u'VNZIP1',\n",
       "       u'VehBCost', u'VehOdo', u'VehYear', u'VehicleAge', u'WarrantyCost',\n",
       "       u'WheelType', u'WheelTypeID'],\n",
       "      dtype='object')"
      ]
     },
     "execution_count": 33,
     "metadata": {},
     "output_type": "execute_result"
    }
   ],
   "source": [
    "all.columns"
   ]
  },
  {
   "cell_type": "code",
   "execution_count": 34,
   "metadata": {},
   "outputs": [
    {
     "data": {
      "text/plain": [
       "AUCGUART                             61363\n",
       "Auction                                  0\n",
       "BYRNO                                    0\n",
       "Color                                    5\n",
       "IsBadBuy                             12880\n",
       "IsOnlineSale                             0\n",
       "MMRAcquisitionAuctionAveragePrice       15\n",
       "MMRAcquisitionAuctionCleanPrice         15\n",
       "MMRAcquisitionRetailAveragePrice        15\n",
       "MMRAcquisitonRetailCleanPrice           15\n",
       "MMRCurrentAuctionAveragePrice          275\n",
       "MMRCurrentAuctionCleanPrice            275\n",
       "MMRCurrentRetailAveragePrice           275\n",
       "MMRCurrentRetailCleanPrice             275\n",
       "Make                                     0\n",
       "Model                                    0\n",
       "Nationality                              5\n",
       "PRIMEUNIT                            61363\n",
       "PurchDate                                0\n",
       "RefId                                    0\n",
       "Size                                     5\n",
       "SubModel                                 5\n",
       "TopThreeAmericanName                     5\n",
       "Transmission                             6\n",
       "Trim                                  2070\n",
       "VNST                                     0\n",
       "VNZIP1                                   0\n",
       "VehBCost                                 0\n",
       "VehOdo                                   0\n",
       "VehYear                                  0\n",
       "VehicleAge                               0\n",
       "WarrantyCost                             0\n",
       "WheelType                             2801\n",
       "WheelTypeID                           2796\n",
       "dtype: int64"
      ]
     },
     "execution_count": 34,
     "metadata": {},
     "output_type": "execute_result"
    }
   ],
   "source": [
    "all.isnull().sum()"
   ]
  },
  {
   "cell_type": "code",
   "execution_count": 35,
   "metadata": {},
   "outputs": [
    {
     "data": {
      "text/html": [
       "<div>\n",
       "<style scoped>\n",
       "    .dataframe tbody tr th:only-of-type {\n",
       "        vertical-align: middle;\n",
       "    }\n",
       "\n",
       "    .dataframe tbody tr th {\n",
       "        vertical-align: top;\n",
       "    }\n",
       "\n",
       "    .dataframe thead th {\n",
       "        text-align: right;\n",
       "    }\n",
       "</style>\n",
       "<table border=\"1\" class=\"dataframe\">\n",
       "  <thead>\n",
       "    <tr style=\"text-align: right;\">\n",
       "      <th>TopThreeAmericanName</th>\n",
       "      <th>CHRYSLER</th>\n",
       "      <th>FORD</th>\n",
       "      <th>GM</th>\n",
       "      <th>OTHER</th>\n",
       "    </tr>\n",
       "    <tr>\n",
       "      <th>Transmission</th>\n",
       "      <th></th>\n",
       "      <th></th>\n",
       "      <th></th>\n",
       "      <th></th>\n",
       "    </tr>\n",
       "  </thead>\n",
       "  <tbody>\n",
       "    <tr>\n",
       "      <th>AUTO</th>\n",
       "      <td>20309</td>\n",
       "      <td>10428</td>\n",
       "      <td>21644</td>\n",
       "      <td>9715</td>\n",
       "    </tr>\n",
       "    <tr>\n",
       "      <th>MANUAL</th>\n",
       "      <td>324</td>\n",
       "      <td>477</td>\n",
       "      <td>630</td>\n",
       "      <td>858</td>\n",
       "    </tr>\n",
       "    <tr>\n",
       "      <th>Manual</th>\n",
       "      <td>0</td>\n",
       "      <td>0</td>\n",
       "      <td>0</td>\n",
       "      <td>1</td>\n",
       "    </tr>\n",
       "  </tbody>\n",
       "</table>\n",
       "</div>"
      ],
      "text/plain": [
       "TopThreeAmericanName  CHRYSLER   FORD     GM  OTHER\n",
       "Transmission                                       \n",
       "AUTO                     20309  10428  21644   9715\n",
       "MANUAL                     324    477    630    858\n",
       "Manual                       0      0      0      1"
      ]
     },
     "execution_count": 35,
     "metadata": {},
     "output_type": "execute_result"
    }
   ],
   "source": [
    "pd.crosstab(all['Transmission'],all['TopThreeAmericanName'])"
   ]
  },
  {
   "cell_type": "code",
   "execution_count": 36,
   "metadata": {},
   "outputs": [
    {
     "data": {
      "text/html": [
       "<div>\n",
       "<style scoped>\n",
       "    .dataframe tbody tr th:only-of-type {\n",
       "        vertical-align: middle;\n",
       "    }\n",
       "\n",
       "    .dataframe tbody tr th {\n",
       "        vertical-align: top;\n",
       "    }\n",
       "\n",
       "    .dataframe thead th {\n",
       "        text-align: right;\n",
       "    }\n",
       "</style>\n",
       "<table border=\"1\" class=\"dataframe\">\n",
       "  <thead>\n",
       "    <tr style=\"text-align: right;\">\n",
       "      <th>TopThreeAmericanName</th>\n",
       "      <th>CHRYSLER</th>\n",
       "      <th>FORD</th>\n",
       "      <th>GM</th>\n",
       "      <th>OTHER</th>\n",
       "    </tr>\n",
       "    <tr>\n",
       "      <th>Transmission</th>\n",
       "      <th></th>\n",
       "      <th></th>\n",
       "      <th></th>\n",
       "      <th></th>\n",
       "    </tr>\n",
       "  </thead>\n",
       "  <tbody>\n",
       "    <tr>\n",
       "      <th>AUTO</th>\n",
       "      <td>20309</td>\n",
       "      <td>10428</td>\n",
       "      <td>21644</td>\n",
       "      <td>9715</td>\n",
       "    </tr>\n",
       "    <tr>\n",
       "      <th>MANUAL</th>\n",
       "      <td>324</td>\n",
       "      <td>477</td>\n",
       "      <td>630</td>\n",
       "      <td>858</td>\n",
       "    </tr>\n",
       "    <tr>\n",
       "      <th>Manual</th>\n",
       "      <td>0</td>\n",
       "      <td>0</td>\n",
       "      <td>0</td>\n",
       "      <td>1</td>\n",
       "    </tr>\n",
       "  </tbody>\n",
       "</table>\n",
       "</div>"
      ],
      "text/plain": [
       "TopThreeAmericanName  CHRYSLER   FORD     GM  OTHER\n",
       "Transmission                                       \n",
       "AUTO                     20309  10428  21644   9715\n",
       "MANUAL                     324    477    630    858\n",
       "Manual                       0      0      0      1"
      ]
     },
     "execution_count": 36,
     "metadata": {},
     "output_type": "execute_result"
    }
   ],
   "source": [
    "pd.crosstab(all['Transmission'],all['TopThreeAmericanName'])"
   ]
  },
  {
   "cell_type": "code",
   "execution_count": 47,
   "metadata": {},
   "outputs": [],
   "source": [
    "all['Transmission'].replace('Manual','MANUAL', inplace=True)"
   ]
  },
  {
   "cell_type": "code",
   "execution_count": 48,
   "metadata": {},
   "outputs": [
    {
     "data": {
      "text/plain": [
       "AUTO      62101\n",
       "Manual     2290\n",
       "Name: Transmission, dtype: int64"
      ]
     },
     "execution_count": 48,
     "metadata": {},
     "output_type": "execute_result"
    }
   ],
   "source": [
    "all.Transmission.value_counts()"
   ]
  },
  {
   "cell_type": "code",
   "execution_count": 49,
   "metadata": {},
   "outputs": [],
   "source": [
    "all['Transmission'].replace('Manual','MANUAL', inplace=True)"
   ]
  },
  {
   "cell_type": "code",
   "execution_count": 51,
   "metadata": {},
   "outputs": [
    {
     "data": {
      "text/html": [
       "<div>\n",
       "<style scoped>\n",
       "    .dataframe tbody tr th:only-of-type {\n",
       "        vertical-align: middle;\n",
       "    }\n",
       "\n",
       "    .dataframe tbody tr th {\n",
       "        vertical-align: top;\n",
       "    }\n",
       "\n",
       "    .dataframe thead th {\n",
       "        text-align: right;\n",
       "    }\n",
       "</style>\n",
       "<table border=\"1\" class=\"dataframe\">\n",
       "  <thead>\n",
       "    <tr style=\"text-align: right;\">\n",
       "      <th>TopThreeAmericanName</th>\n",
       "      <th>CHRYSLER</th>\n",
       "      <th>FORD</th>\n",
       "      <th>GM</th>\n",
       "      <th>OTHER</th>\n",
       "    </tr>\n",
       "    <tr>\n",
       "      <th>Transmission</th>\n",
       "      <th></th>\n",
       "      <th></th>\n",
       "      <th></th>\n",
       "      <th></th>\n",
       "    </tr>\n",
       "  </thead>\n",
       "  <tbody>\n",
       "    <tr>\n",
       "      <th>AUTO</th>\n",
       "      <td>20309</td>\n",
       "      <td>10428</td>\n",
       "      <td>21644</td>\n",
       "      <td>9715</td>\n",
       "    </tr>\n",
       "    <tr>\n",
       "      <th>MANUAL</th>\n",
       "      <td>324</td>\n",
       "      <td>477</td>\n",
       "      <td>630</td>\n",
       "      <td>859</td>\n",
       "    </tr>\n",
       "  </tbody>\n",
       "</table>\n",
       "</div>"
      ],
      "text/plain": [
       "TopThreeAmericanName  CHRYSLER   FORD     GM  OTHER\n",
       "Transmission                                       \n",
       "AUTO                     20309  10428  21644   9715\n",
       "MANUAL                     324    477    630    859"
      ]
     },
     "execution_count": 51,
     "metadata": {},
     "output_type": "execute_result"
    }
   ],
   "source": [
    "pd.crosstab(all['Transmission'],all['TopThreeAmericanName'])"
   ]
  },
  {
   "cell_type": "code",
   "execution_count": 13,
   "metadata": {},
   "outputs": [
    {
     "data": {
      "text/html": [
       "<div>\n",
       "<style scoped>\n",
       "    .dataframe tbody tr th:only-of-type {\n",
       "        vertical-align: middle;\n",
       "    }\n",
       "\n",
       "    .dataframe tbody tr th {\n",
       "        vertical-align: top;\n",
       "    }\n",
       "\n",
       "    .dataframe thead th {\n",
       "        text-align: right;\n",
       "    }\n",
       "</style>\n",
       "<table border=\"1\" class=\"dataframe\">\n",
       "  <thead>\n",
       "    <tr style=\"text-align: right;\">\n",
       "      <th></th>\n",
       "      <th>BYRNO</th>\n",
       "      <th>IsBadBuy</th>\n",
       "      <th>IsOnlineSale</th>\n",
       "      <th>MMRAcquisitionAuctionAveragePrice</th>\n",
       "      <th>MMRAcquisitionAuctionCleanPrice</th>\n",
       "      <th>MMRAcquisitionRetailAveragePrice</th>\n",
       "      <th>MMRAcquisitonRetailCleanPrice</th>\n",
       "      <th>MMRCurrentAuctionAveragePrice</th>\n",
       "      <th>MMRCurrentAuctionCleanPrice</th>\n",
       "      <th>MMRCurrentRetailAveragePrice</th>\n",
       "      <th>MMRCurrentRetailCleanPrice</th>\n",
       "      <th>RefId</th>\n",
       "      <th>VNZIP1</th>\n",
       "      <th>VehBCost</th>\n",
       "      <th>VehOdo</th>\n",
       "      <th>VehYear</th>\n",
       "      <th>VehicleAge</th>\n",
       "      <th>WarrantyCost</th>\n",
       "      <th>WheelTypeID</th>\n",
       "    </tr>\n",
       "  </thead>\n",
       "  <tbody>\n",
       "    <tr>\n",
       "      <th>count</th>\n",
       "      <td>2359.000000</td>\n",
       "      <td>2359.000000</td>\n",
       "      <td>2359.000000</td>\n",
       "      <td>2359.000000</td>\n",
       "      <td>2359.000000</td>\n",
       "      <td>2359.000000</td>\n",
       "      <td>2359.000000</td>\n",
       "      <td>2359.000000</td>\n",
       "      <td>2359.000000</td>\n",
       "      <td>2359.000000</td>\n",
       "      <td>2359.000000</td>\n",
       "      <td>2359.000000</td>\n",
       "      <td>2359.000000</td>\n",
       "      <td>2359.000000</td>\n",
       "      <td>2359.000000</td>\n",
       "      <td>2359.000000</td>\n",
       "      <td>2359.000000</td>\n",
       "      <td>2359.000000</td>\n",
       "      <td>2359.000000</td>\n",
       "    </tr>\n",
       "    <tr>\n",
       "      <th>mean</th>\n",
       "      <td>26668.201780</td>\n",
       "      <td>0.038576</td>\n",
       "      <td>0.042815</td>\n",
       "      <td>5659.220432</td>\n",
       "      <td>6878.165748</td>\n",
       "      <td>9112.818991</td>\n",
       "      <td>10432.735481</td>\n",
       "      <td>6110.350996</td>\n",
       "      <td>7449.125477</td>\n",
       "      <td>9399.538364</td>\n",
       "      <td>10836.673167</td>\n",
       "      <td>34928.149216</td>\n",
       "      <td>56619.193726</td>\n",
       "      <td>6611.865939</td>\n",
       "      <td>77418.400170</td>\n",
       "      <td>2005.423908</td>\n",
       "      <td>4.576092</td>\n",
       "      <td>1304.339551</td>\n",
       "      <td>1.493006</td>\n",
       "    </tr>\n",
       "    <tr>\n",
       "      <th>std</th>\n",
       "      <td>22713.516866</td>\n",
       "      <td>0.192622</td>\n",
       "      <td>0.202482</td>\n",
       "      <td>2487.199197</td>\n",
       "      <td>2732.009019</td>\n",
       "      <td>2988.261486</td>\n",
       "      <td>3211.133531</td>\n",
       "      <td>2606.174474</td>\n",
       "      <td>2852.900754</td>\n",
       "      <td>2940.304244</td>\n",
       "      <td>3169.665034</td>\n",
       "      <td>22041.795012</td>\n",
       "      <td>25348.551273</td>\n",
       "      <td>1928.915947</td>\n",
       "      <td>14995.662734</td>\n",
       "      <td>1.894603</td>\n",
       "      <td>1.894603</td>\n",
       "      <td>568.025883</td>\n",
       "      <td>0.522454</td>\n",
       "    </tr>\n",
       "    <tr>\n",
       "      <th>min</th>\n",
       "      <td>835.000000</td>\n",
       "      <td>0.000000</td>\n",
       "      <td>0.000000</td>\n",
       "      <td>0.000000</td>\n",
       "      <td>0.000000</td>\n",
       "      <td>0.000000</td>\n",
       "      <td>0.000000</td>\n",
       "      <td>0.000000</td>\n",
       "      <td>0.000000</td>\n",
       "      <td>0.000000</td>\n",
       "      <td>0.000000</td>\n",
       "      <td>298.000000</td>\n",
       "      <td>3106.000000</td>\n",
       "      <td>2010.000000</td>\n",
       "      <td>24805.000000</td>\n",
       "      <td>2001.000000</td>\n",
       "      <td>1.000000</td>\n",
       "      <td>462.000000</td>\n",
       "      <td>1.000000</td>\n",
       "    </tr>\n",
       "    <tr>\n",
       "      <th>25%</th>\n",
       "      <td>17675.000000</td>\n",
       "      <td>0.000000</td>\n",
       "      <td>0.000000</td>\n",
       "      <td>3632.500000</td>\n",
       "      <td>4738.500000</td>\n",
       "      <td>6814.500000</td>\n",
       "      <td>8003.500000</td>\n",
       "      <td>3935.000000</td>\n",
       "      <td>5150.000000</td>\n",
       "      <td>7099.000000</td>\n",
       "      <td>8368.500000</td>\n",
       "      <td>13908.500000</td>\n",
       "      <td>32750.000000</td>\n",
       "      <td>5050.000000</td>\n",
       "      <td>68419.500000</td>\n",
       "      <td>2004.000000</td>\n",
       "      <td>3.000000</td>\n",
       "      <td>882.000000</td>\n",
       "      <td>1.000000</td>\n",
       "    </tr>\n",
       "    <tr>\n",
       "      <th>50%</th>\n",
       "      <td>20234.000000</td>\n",
       "      <td>0.000000</td>\n",
       "      <td>0.000000</td>\n",
       "      <td>5484.000000</td>\n",
       "      <td>6753.000000</td>\n",
       "      <td>9046.000000</td>\n",
       "      <td>10357.000000</td>\n",
       "      <td>5865.000000</td>\n",
       "      <td>7244.000000</td>\n",
       "      <td>9220.000000</td>\n",
       "      <td>10673.000000</td>\n",
       "      <td>34737.000000</td>\n",
       "      <td>60445.000000</td>\n",
       "      <td>6420.000000</td>\n",
       "      <td>78435.000000</td>\n",
       "      <td>2006.000000</td>\n",
       "      <td>4.000000</td>\n",
       "      <td>1215.000000</td>\n",
       "      <td>1.000000</td>\n",
       "    </tr>\n",
       "    <tr>\n",
       "      <th>75%</th>\n",
       "      <td>25100.000000</td>\n",
       "      <td>0.000000</td>\n",
       "      <td>0.000000</td>\n",
       "      <td>7429.000000</td>\n",
       "      <td>8672.500000</td>\n",
       "      <td>11084.500000</td>\n",
       "      <td>12543.000000</td>\n",
       "      <td>7844.000000</td>\n",
       "      <td>9311.000000</td>\n",
       "      <td>11383.500000</td>\n",
       "      <td>13034.000000</td>\n",
       "      <td>52563.000000</td>\n",
       "      <td>78610.000000</td>\n",
       "      <td>8010.000000</td>\n",
       "      <td>87784.500000</td>\n",
       "      <td>2007.000000</td>\n",
       "      <td>6.000000</td>\n",
       "      <td>1630.000000</td>\n",
       "      <td>2.000000</td>\n",
       "    </tr>\n",
       "    <tr>\n",
       "      <th>max</th>\n",
       "      <td>99761.000000</td>\n",
       "      <td>1.000000</td>\n",
       "      <td>1.000000</td>\n",
       "      <td>17494.000000</td>\n",
       "      <td>19640.000000</td>\n",
       "      <td>22536.000000</td>\n",
       "      <td>25050.000000</td>\n",
       "      <td>18677.000000</td>\n",
       "      <td>21046.000000</td>\n",
       "      <td>23450.000000</td>\n",
       "      <td>25577.000000</td>\n",
       "      <td>72419.000000</td>\n",
       "      <td>97402.000000</td>\n",
       "      <td>18245.000000</td>\n",
       "      <td>114184.000000</td>\n",
       "      <td>2009.000000</td>\n",
       "      <td>9.000000</td>\n",
       "      <td>5613.000000</td>\n",
       "      <td>3.000000</td>\n",
       "    </tr>\n",
       "  </tbody>\n",
       "</table>\n",
       "</div>"
      ],
      "text/plain": [
       "              BYRNO     IsBadBuy  IsOnlineSale  \\\n",
       "count   2359.000000  2359.000000   2359.000000   \n",
       "mean   26668.201780     0.038576      0.042815   \n",
       "std    22713.516866     0.192622      0.202482   \n",
       "min      835.000000     0.000000      0.000000   \n",
       "25%    17675.000000     0.000000      0.000000   \n",
       "50%    20234.000000     0.000000      0.000000   \n",
       "75%    25100.000000     0.000000      0.000000   \n",
       "max    99761.000000     1.000000      1.000000   \n",
       "\n",
       "       MMRAcquisitionAuctionAveragePrice  MMRAcquisitionAuctionCleanPrice  \\\n",
       "count                        2359.000000                      2359.000000   \n",
       "mean                         5659.220432                      6878.165748   \n",
       "std                          2487.199197                      2732.009019   \n",
       "min                             0.000000                         0.000000   \n",
       "25%                          3632.500000                      4738.500000   \n",
       "50%                          5484.000000                      6753.000000   \n",
       "75%                          7429.000000                      8672.500000   \n",
       "max                         17494.000000                     19640.000000   \n",
       "\n",
       "       MMRAcquisitionRetailAveragePrice  MMRAcquisitonRetailCleanPrice  \\\n",
       "count                       2359.000000                    2359.000000   \n",
       "mean                        9112.818991                   10432.735481   \n",
       "std                         2988.261486                    3211.133531   \n",
       "min                            0.000000                       0.000000   \n",
       "25%                         6814.500000                    8003.500000   \n",
       "50%                         9046.000000                   10357.000000   \n",
       "75%                        11084.500000                   12543.000000   \n",
       "max                        22536.000000                   25050.000000   \n",
       "\n",
       "       MMRCurrentAuctionAveragePrice  MMRCurrentAuctionCleanPrice  \\\n",
       "count                    2359.000000                  2359.000000   \n",
       "mean                     6110.350996                  7449.125477   \n",
       "std                      2606.174474                  2852.900754   \n",
       "min                         0.000000                     0.000000   \n",
       "25%                      3935.000000                  5150.000000   \n",
       "50%                      5865.000000                  7244.000000   \n",
       "75%                      7844.000000                  9311.000000   \n",
       "max                     18677.000000                 21046.000000   \n",
       "\n",
       "       MMRCurrentRetailAveragePrice  MMRCurrentRetailCleanPrice         RefId  \\\n",
       "count                   2359.000000                 2359.000000   2359.000000   \n",
       "mean                    9399.538364                10836.673167  34928.149216   \n",
       "std                     2940.304244                 3169.665034  22041.795012   \n",
       "min                        0.000000                    0.000000    298.000000   \n",
       "25%                     7099.000000                 8368.500000  13908.500000   \n",
       "50%                     9220.000000                10673.000000  34737.000000   \n",
       "75%                    11383.500000                13034.000000  52563.000000   \n",
       "max                    23450.000000                25577.000000  72419.000000   \n",
       "\n",
       "             VNZIP1      VehBCost         VehOdo      VehYear   VehicleAge  \\\n",
       "count   2359.000000   2359.000000    2359.000000  2359.000000  2359.000000   \n",
       "mean   56619.193726   6611.865939   77418.400170  2005.423908     4.576092   \n",
       "std    25348.551273   1928.915947   14995.662734     1.894603     1.894603   \n",
       "min     3106.000000   2010.000000   24805.000000  2001.000000     1.000000   \n",
       "25%    32750.000000   5050.000000   68419.500000  2004.000000     3.000000   \n",
       "50%    60445.000000   6420.000000   78435.000000  2006.000000     4.000000   \n",
       "75%    78610.000000   8010.000000   87784.500000  2007.000000     6.000000   \n",
       "max    97402.000000  18245.000000  114184.000000  2009.000000     9.000000   \n",
       "\n",
       "       WarrantyCost  WheelTypeID  \n",
       "count   2359.000000  2359.000000  \n",
       "mean    1304.339551     1.493006  \n",
       "std      568.025883     0.522454  \n",
       "min      462.000000     1.000000  \n",
       "25%      882.000000     1.000000  \n",
       "50%     1215.000000     1.000000  \n",
       "75%     1630.000000     2.000000  \n",
       "max     5613.000000     3.000000  "
      ]
     },
     "execution_count": 13,
     "metadata": {},
     "output_type": "execute_result"
    }
   ],
   "source": [
    "all.dropna().describe()"
   ]
  },
  {
   "cell_type": "code",
   "execution_count": 14,
   "metadata": {},
   "outputs": [
    {
     "data": {
      "text/plain": [
       "GM          22276\n",
       "CHRYSLER    20634\n",
       "FORD        10908\n",
       "OTHER       10574\n",
       "Name: TopThreeAmericanName, dtype: int64"
      ]
     },
     "execution_count": 14,
     "metadata": {},
     "output_type": "execute_result"
    }
   ],
   "source": [
    "all.TopThreeAmericanName.value_counts()"
   ]
  },
  {
   "cell_type": "code",
   "execution_count": 15,
   "metadata": {},
   "outputs": [
    {
     "data": {
      "text/plain": [
       "0.0    45166\n",
       "1.0     6351\n",
       "Name: IsBadBuy, dtype: int64"
      ]
     },
     "execution_count": 15,
     "metadata": {},
     "output_type": "execute_result"
    }
   ],
   "source": [
    "all['IsBadBuy'].value_counts()"
   ]
  },
  {
   "cell_type": "code",
   "execution_count": 17,
   "metadata": {},
   "outputs": [
    {
     "data": {
      "text/plain": [
       "12880"
      ]
     },
     "execution_count": 17,
     "metadata": {},
     "output_type": "execute_result"
    }
   ],
   "source": [
    "all['IsBadBuy'].isna().sum()"
   ]
  },
  {
   "cell_type": "code",
   "execution_count": 18,
   "metadata": {},
   "outputs": [
    {
     "data": {
      "text/plain": [
       "AUCGUART                              object\n",
       "Auction                               object\n",
       "BYRNO                                  int64\n",
       "Color                                 object\n",
       "IsBadBuy                             float64\n",
       "IsOnlineSale                           int64\n",
       "MMRAcquisitionAuctionAveragePrice    float64\n",
       "MMRAcquisitionAuctionCleanPrice      float64\n",
       "MMRAcquisitionRetailAveragePrice     float64\n",
       "MMRAcquisitonRetailCleanPrice        float64\n",
       "MMRCurrentAuctionAveragePrice        float64\n",
       "MMRCurrentAuctionCleanPrice          float64\n",
       "MMRCurrentRetailAveragePrice         float64\n",
       "MMRCurrentRetailCleanPrice           float64\n",
       "Make                                  object\n",
       "Model                                 object\n",
       "Nationality                           object\n",
       "PRIMEUNIT                             object\n",
       "PurchDate                             object\n",
       "RefId                                  int64\n",
       "Size                                  object\n",
       "SubModel                              object\n",
       "TopThreeAmericanName                  object\n",
       "Transmission                          object\n",
       "Trim                                  object\n",
       "VNST                                  object\n",
       "VNZIP1                                 int64\n",
       "VehBCost                             float64\n",
       "VehOdo                                 int64\n",
       "VehYear                                int64\n",
       "VehicleAge                             int64\n",
       "WarrantyCost                           int64\n",
       "WheelType                             object\n",
       "WheelTypeID                          float64\n",
       "dtype: object"
      ]
     },
     "execution_count": 18,
     "metadata": {},
     "output_type": "execute_result"
    }
   ],
   "source": [
    "all.dtypes"
   ]
  },
  {
   "cell_type": "code",
   "execution_count": 59,
   "metadata": {},
   "outputs": [
    {
     "data": {
      "text/plain": [
       "<matplotlib.axes._subplots.AxesSubplot at 0x25bbfc18>"
      ]
     },
     "execution_count": 59,
     "metadata": {},
     "output_type": "execute_result"
    },
    {
     "data": {
      "image/png": "[encoded data removed]",
      "text/plain": [
       "<Figure size 720x576 with 1 Axes>"
      ]
     },
     "metadata": {},
     "output_type": "display_data"
    }
   ],
   "source": [
    "plt.figure(figsize=(10,8))\n",
    "all.corr()['IsBadBuy'].sort_values(ascending = False).plot(kind='bar')"
   ]
  },
  {
   "cell_type": "code",
   "execution_count": 56,
   "metadata": {},
   "outputs": [
    {
     "data": {
      "text/html": [
       "<div>\n",
       "<style scoped>\n",
       "    .dataframe tbody tr th:only-of-type {\n",
       "        vertical-align: middle;\n",
       "    }\n",
       "\n",
       "    .dataframe tbody tr th {\n",
       "        vertical-align: top;\n",
       "    }\n",
       "\n",
       "    .dataframe thead th {\n",
       "        text-align: right;\n",
       "    }\n",
       "</style>\n",
       "<table border=\"1\" class=\"dataframe\">\n",
       "  <thead>\n",
       "    <tr style=\"text-align: right;\">\n",
       "      <th>VehBCost</th>\n",
       "      <th>1.0</th>\n",
       "      <th>1400.0</th>\n",
       "      <th>1620.0</th>\n",
       "      <th>1720.0</th>\n",
       "      <th>1915.0</th>\n",
       "      <th>1960.0</th>\n",
       "      <th>2010.0</th>\n",
       "      <th>2085.0</th>\n",
       "      <th>2100.0</th>\n",
       "      <th>2145.0</th>\n",
       "      <th>...</th>\n",
       "      <th>20380.0</th>\n",
       "      <th>23272.02</th>\n",
       "      <th>28180.0</th>\n",
       "      <th>28560.0</th>\n",
       "      <th>29795.0</th>\n",
       "      <th>32300.0</th>\n",
       "      <th>35900.0</th>\n",
       "      <th>36485.0</th>\n",
       "      <th>38785.0</th>\n",
       "      <th>45469.0</th>\n",
       "    </tr>\n",
       "    <tr>\n",
       "      <th>IsBadBuy</th>\n",
       "      <th></th>\n",
       "      <th></th>\n",
       "      <th></th>\n",
       "      <th></th>\n",
       "      <th></th>\n",
       "      <th></th>\n",
       "      <th></th>\n",
       "      <th></th>\n",
       "      <th></th>\n",
       "      <th></th>\n",
       "      <th></th>\n",
       "      <th></th>\n",
       "      <th></th>\n",
       "      <th></th>\n",
       "      <th></th>\n",
       "      <th></th>\n",
       "      <th></th>\n",
       "      <th></th>\n",
       "      <th></th>\n",
       "      <th></th>\n",
       "      <th></th>\n",
       "    </tr>\n",
       "  </thead>\n",
       "  <tbody>\n",
       "    <tr>\n",
       "      <th>0.0</th>\n",
       "      <td>0</td>\n",
       "      <td>1</td>\n",
       "      <td>1</td>\n",
       "      <td>0</td>\n",
       "      <td>1</td>\n",
       "      <td>0</td>\n",
       "      <td>1</td>\n",
       "      <td>1</td>\n",
       "      <td>1</td>\n",
       "      <td>1</td>\n",
       "      <td>...</td>\n",
       "      <td>0</td>\n",
       "      <td>0</td>\n",
       "      <td>0</td>\n",
       "      <td>0</td>\n",
       "      <td>0</td>\n",
       "      <td>0</td>\n",
       "      <td>0</td>\n",
       "      <td>0</td>\n",
       "      <td>0</td>\n",
       "      <td>0</td>\n",
       "    </tr>\n",
       "    <tr>\n",
       "      <th>1.0</th>\n",
       "      <td>1</td>\n",
       "      <td>0</td>\n",
       "      <td>0</td>\n",
       "      <td>1</td>\n",
       "      <td>0</td>\n",
       "      <td>1</td>\n",
       "      <td>1</td>\n",
       "      <td>0</td>\n",
       "      <td>0</td>\n",
       "      <td>0</td>\n",
       "      <td>...</td>\n",
       "      <td>1</td>\n",
       "      <td>1</td>\n",
       "      <td>1</td>\n",
       "      <td>1</td>\n",
       "      <td>1</td>\n",
       "      <td>1</td>\n",
       "      <td>1</td>\n",
       "      <td>1</td>\n",
       "      <td>1</td>\n",
       "      <td>1</td>\n",
       "    </tr>\n",
       "  </tbody>\n",
       "</table>\n",
       "<p>2 rows × 1979 columns</p>\n",
       "</div>"
      ],
      "text/plain": [
       "VehBCost  1.00      1400.00   1620.00   1720.00   1915.00   1960.00   \\\n",
       "IsBadBuy                                                               \n",
       "0.0              0         1         1         0         1         0   \n",
       "1.0              1         0         0         1         0         1   \n",
       "\n",
       "VehBCost  2010.00   2085.00   2100.00   2145.00     ...     20380.00  \\\n",
       "IsBadBuy                                            ...                \n",
       "0.0              1         1         1         1    ...            0   \n",
       "1.0              1         0         0         0    ...            1   \n",
       "\n",
       "VehBCost  23272.02  28180.00  28560.00  29795.00  32300.00  35900.00  \\\n",
       "IsBadBuy                                                               \n",
       "0.0              0         0         0         0         0         0   \n",
       "1.0              1         1         1         1         1         1   \n",
       "\n",
       "VehBCost  36485.00  38785.00  45469.00  \n",
       "IsBadBuy                                \n",
       "0.0              0         0         0  \n",
       "1.0              1         1         1  \n",
       "\n",
       "[2 rows x 1979 columns]"
      ]
     },
     "execution_count": 56,
     "metadata": {},
     "output_type": "execute_result"
    }
   ],
   "source": [
    "pd.crosstab(all['IsBadBuy'],all['VehBCost'])"
   ]
  },
  {
   "cell_type": "code",
   "execution_count": null,
   "metadata": {},
   "outputs": [],
   "source": []
  }
 ],
 "metadata": {
  "kernelspec": {
   "display_name": "Python 2",
   "language": "python",
   "name": "python2"
  },
  "language_info": {
   "codemirror_mode": {
    "name": "ipython",
    "version": 2
   },
   "file_extension": ".py",
   "mimetype": "text/x-python",
   "name": "python",
   "nbconvert_exporter": "python",
   "pygments_lexer": "ipython2",
   "version": "2.7.14"
  }
 },
 "nbformat": 4,
 "nbformat_minor": 2
}
