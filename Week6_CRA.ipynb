{
 "cells": [
  {
   "cell_type": "markdown",
   "metadata": {},
   "source": [
    "# ASSIGNMENT 4"
   ]
  },
  {
   "cell_type": "markdown",
   "metadata": {},
   "source": [
    "#                             Credit Risk Analytics"
   ]
  },
  {
   "cell_type": "code",
   "execution_count": 6,
   "metadata": {
    "collapsed": true
   },
   "outputs": [],
   "source": [
    "#READ THE WORD DOCUMENT ---Python_Module_Day_15.1_Case Study on Credit Risk.docx carefully \n",
    "#before starting on this Assignment. A through understanding on the Business Problem \n",
    "#is essential to answer the questions and also for your long term Analytics Career. You can add this\n",
    "#in your resume as a Industry Project.\n",
    "# i will leeave a blank after every Question. Please answer the Question in the Blank. Youc an create \n",
    "#additional spaces by pressing ENter or by Inserting new lines using Insert button in the Menu above"
   ]
  },
  {
   "cell_type": "markdown",
   "metadata": {},
   "source": [
    "# A- Collecting the Data"
   ]
  },
  {
   "cell_type": "code",
   "execution_count": null,
   "metadata": {
    "collapsed": true
   },
   "outputs": [],
   "source": [
    "#imprt all important libraries that you think you will use\n",
    "#keep updating it here as and when needed\n",
    "#write you Code here--\n",
    "\n"
   ]
  },
  {
   "cell_type": "code",
   "execution_count": 10,
   "metadata": {
    "collapsed": true
   },
   "outputs": [],
   "source": [
    "#read the Credit_Risk_Train_data as a datafrmae into Python.CALL IT TRAIN"
   ]
  },
  {
   "cell_type": "code",
   "execution_count": null,
   "metadata": {
    "collapsed": true
   },
   "outputs": [],
   "source": [
    "#write you Code here--\n",
    "\n"
   ]
  },
  {
   "cell_type": "code",
   "execution_count": 7,
   "metadata": {
    "collapsed": true
   },
   "outputs": [],
   "source": [
    "#1 HOw many Rows and Columns are in the Data Frame?\n",
    "#2 Get the Datatype of Each Column in the DF?\n",
    "#3 Get all the Column names of the df as a list? \n",
    "#4 Are there Missing Values in the DF?\n",
    "#5 How can you get the Total No. of Missing Values in the DF? Give one No. as answer.\n",
    "#6 Get no. of missing in each Column of the Data frame?\n",
    "#7 print the last 4 rows of the Data Frame?"
   ]
  },
  {
   "cell_type": "code",
   "execution_count": null,
   "metadata": {
    "collapsed": true
   },
   "outputs": [],
   "source": [
    "#write you Code here-- (Q -1 to 6)\n",
    "\n",
    "\n",
    "\n",
    "\n"
   ]
  },
  {
   "cell_type": "code",
   "execution_count": 11,
   "metadata": {
    "collapsed": true
   },
   "outputs": [],
   "source": [
    "#read the Credit_Risk_Test_data as a datafrmae into Python.CALL IT TEST"
   ]
  },
  {
   "cell_type": "code",
   "execution_count": 9,
   "metadata": {
    "collapsed": true
   },
   "outputs": [],
   "source": [
    "#8 HOw many Rows and Columns are in the Data Frame?\n",
    "#9 Get the Datatype of Each Column in the DF?\n",
    "#10 Get all the Column names of the df as a list? \n",
    "#11 Are there Missing Values in the DF?\n",
    "#12 How can you get the Total No. of Missing Values in the DF? Give one No. as answer.\n",
    "#13 Get no. of missing in each Column of the Data frame?\n",
    "#14 print the last 4 rows of the Data Frame?"
   ]
  },
  {
   "cell_type": "markdown",
   "metadata": {},
   "source": [
    "# B- Filling Missing Values"
   ]
  },
  {
   "cell_type": "code",
   "execution_count": 12,
   "metadata": {
    "collapsed": true
   },
   "outputs": [],
   "source": [
    "# So DF train as well as DF test has Missing Values.Lets go about filling the Missing Values.\n",
    "#WHY?? \n",
    "#bcoz Linear Regression/Logistic Regression will not include a Row ( for training or for Prediction)\n",
    "#if it has even one Missing values. So all NAs should be filled befroe Model Building."
   ]
  },
  {
   "cell_type": "code",
   "execution_count": 13,
   "metadata": {
    "collapsed": true
   },
   "outputs": [],
   "source": [
    "#DISCUSSION 1\n",
    "#So How do we fill the Missing values Then??\n",
    "#let me Give you 2 Ways--\n",
    "#way1-- Filling Missing Values in TRAIN first and THEN into TEST data.\n",
    "#way2-- Combine Train & Test data Togehter and then Fill Missing Vlaues in the Combined DF\n",
    "# then Split them Back in the Original way.\n",
    "#Discuss the Pros and Cons of Both Ways--             ...........................VERY IMP QUESTION.\n",
    "#You can discuss within yourself."
   ]
  },
  {
   "cell_type": "code",
   "execution_count": null,
   "metadata": {
    "collapsed": true
   },
   "outputs": [],
   "source": [
    "#write you thoughts here-- (DISCUSSION 1)\n",
    "\n",
    "\n",
    "\n",
    "\n"
   ]
  },
  {
   "cell_type": "code",
   "execution_count": null,
   "metadata": {
    "collapsed": true
   },
   "outputs": [],
   "source": []
  },
  {
   "cell_type": "code",
   "execution_count": 14,
   "metadata": {
    "collapsed": true
   },
   "outputs": [],
   "source": [
    "#15 Lets Merge the Data Together to Fill the Missing Values. Call this ALL\n",
    "#16 How Will you Merge Them Together. To Merge DF togehter the Column names in both \n",
    "#17 Data frames shud be same. Is that the case here, If No, Change the Column name which\n",
    "#represents the same variable but has different name. TheN Merge the df togehter.\n",
    "#18 reset the Index of ALL after Merging the 2 dataframes-- Whay is this important? think..\n",
    "#write you CodeS here-- (Q -15 TO 18)\n",
    "\n",
    "\n",
    "\n",
    "\n",
    "\n"
   ]
  },
  {
   "cell_type": "code",
   "execution_count": 15,
   "metadata": {
    "collapsed": true
   },
   "outputs": [],
   "source": [
    "#19 Find the Total no. of Missing Values in the ALL df.\n",
    "#Lets Fill the Missing Values now of the following columns one by one--\n",
    "#***********************************************************************\n",
    "#20 GENDER---Is a categorical column. How shud you fill the missing values? First find the distribution\n",
    "#of the Gender.( How many Male and Female). Lookig at this, How would you like to fill the missing \n",
    "#values. Think?\n",
    "#Lets Fill it by Male as most customers are male.(almost 85%)\n",
    "#if the proportion of one of the Categorical variables is >85-90%, we can use the Mode to fill\n",
    "#the Missing Values. i.e by doing a Univariate analysis (since we are only looking at one column)\n",
    "#but if none of the Values of the categorical variables has >80% proportion, Univariate will not help,\n",
    "#we might go for a Bivariate analysis in that case. We Might have to look at the variable wrt another\n",
    "#variable (categorical or continuos) and then fill the missing values.\n",
    "\n",
    "#21 At the end check through Codes if Gender Column is Filled or Not in ALL\n",
    "#write you CodeS here-- (Q -19 TO 21)\n",
    "\n",
    "\n",
    "\n",
    "\n",
    "\n",
    "\n",
    "\n"
   ]
  },
  {
   "cell_type": "code",
   "execution_count": 16,
   "metadata": {
    "collapsed": true
   },
   "outputs": [],
   "source": [
    "# lets fill Married column now... \n",
    "#22 How many are False, True and Missing? (hint use Counter)\n",
    "\n",
    "\n",
    "# We cannot fill the missing directly by Mode as the Proportion of the Highest \n",
    "#category Yes is around 65%. So lets do a bivariate analysis\n",
    "#let compare Married vs the Dependent or with any other column\n",
    "#23 Prepare a Crosstab of Married vs Dependents or the other column ? Does this tell you something.\n",
    "#24 Can you use the Dependents or the other column info to fil Married????\n",
    "#Discuss this in details?\n",
    "\n",
    "#write you CodeS & Thoughts here-- (Q -22 TO 24) \n",
    "\n",
    "\n",
    "\n",
    "\n",
    "\n",
    "\n",
    "\n",
    "\n",
    "\n",
    "# remeber Filling Missing values is subjective. \n",
    "#There is no corrct or incorrct method? but there are best practises."
   ]
  },
  {
   "cell_type": "code",
   "execution_count": 17,
   "metadata": {
    "collapsed": true
   },
   "outputs": [],
   "source": [
    "#25 Similarly fill the other categorical columns Dependents, Self_Employed, Credit_History, \n",
    "# In a simple way you can fill all of them by the Mode. But remember this is only good if one \n",
    "#of the categoris is >90%. else you should do a bivariate analysis to fill Misisng values.\n",
    "#________________________________\n",
    "#write you CodeS here-- (Q -25)\n",
    "\n",
    "\n",
    "\n",
    "\n",
    "\n",
    "\n"
   ]
  },
  {
   "cell_type": "code",
   "execution_count": 18,
   "metadata": {
    "collapsed": true
   },
   "outputs": [],
   "source": [
    "#lets fill the Missing Values in Continuous variables now.\n",
    "# LoanAmount && Loan_Amount_Term\n",
    "# fill the Missing Loan Amount by the Mean of the Loan amount of Loan Tenure wise.\n",
    "\n",
    "# 26 for example if Loan tenure is 2,3 months. and avg Loan amount of \n",
    "#all Loans of Tenure 2,3 is INR 5,6lakhs.Then the Loan amount missing\n",
    "#for a Loan of Tenure 2 is 5lakh and so on. Hope this is clear.\n",
    "\n",
    "#Hint Use this Code on all df\n",
    "#all.groupby(all['Loan_Amount_Term'])['LoanAmount'].mean()\n",
    "\n",
    "#lets fill the missing values in LoanAmount \n",
    "#with the mean of the respective Loan_Term\n",
    "#we see that 180 & 240 has the almost same Loan amount 128-131\n",
    "#& 360 has high i.e 144\n",
    "#so lets fill only 360 by 144 \n",
    "#and all remaining by 130\n",
    "\n",
    "#write you CodeS here-- (Q -26)\n",
    "\n",
    "\n",
    "\n",
    "\n",
    "\n",
    "#27 Lets Fill the last variable Loan Amount Tenure. Though it is Numerical column, sicne it has only\n",
    "#few disticnt values, we can treat it as categorical. Let us the Modeto fill the missing values.\n",
    "#write you CodeS here-- (Q -27)\n",
    "\n",
    "\n",
    "\n"
   ]
  },
  {
   "cell_type": "code",
   "execution_count": 19,
   "metadata": {
    "collapsed": true
   },
   "outputs": [],
   "source": [
    "#28 check if all missisng avalues are filled in all?\n",
    "#write you CodeS here-- (Q -28)\n",
    "\n",
    "\n",
    "\n"
   ]
  },
  {
   "cell_type": "code",
   "execution_count": 20,
   "metadata": {
    "collapsed": true
   },
   "outputs": [],
   "source": [
    "#with all Missing aValues filled, lets split the df -- all back into train and test\n",
    "#(call them train_filled and test_filled, to prevent overwriting) in the \n",
    "#original ratio....the same rows which weere in train will be in train_filled and \n",
    "#the rows which were in test wil go to test_filled\n",
    "#29 which funstion will you use to do this??\n",
    "\n",
    "#write you CodeS here-- (Q -29)\n",
    "\n",
    "\n",
    "\n"
   ]
  },
  {
   "cell_type": "code",
   "execution_count": 21,
   "metadata": {
    "collapsed": true
   },
   "outputs": [],
   "source": [
    "#30 why did we split back into train n test? Why can twe run the Model on the combination??\n",
    "#discuss???\n",
    "#write you thoughts here-- (Q -30)\n",
    "\n",
    "\n",
    "\n",
    "\n",
    "\n",
    "\n",
    "\n"
   ]
  },
  {
   "cell_type": "markdown",
   "metadata": {},
   "source": [
    "# Model Building"
   ]
  },
  {
   "cell_type": "code",
   "execution_count": null,
   "metadata": {
    "collapsed": true
   },
   "outputs": [],
   "source": []
  }
 ],
 "metadata": {
  "anaconda-cloud": {},
  "kernelspec": {
   "display_name": "Python 2",
   "language": "python",
   "name": "python2"
  },
  "language_info": {
   "codemirror_mode": {
    "name": "ipython",
    "version": 2
   },
   "file_extension": ".py",
   "mimetype": "text/x-python",
   "name": "python",
   "nbconvert_exporter": "python",
   "pygments_lexer": "ipython2",
   "version": "2.7.14"
  }
 },
 "nbformat": 4,
 "nbformat_minor": 1
}
