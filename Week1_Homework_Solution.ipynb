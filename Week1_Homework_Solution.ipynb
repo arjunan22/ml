{
 "cells": [
  {
   "cell_type": "markdown",
   "metadata": {},
   "source": [
    "# Homework Week1\n",
    "Please revise the concepts covered in the Videos Well"
   ]
  },
  {
   "cell_type": "code",
   "execution_count": 1,
   "metadata": {},
   "outputs": [
    {
     "name": "stdout",
     "output_type": "stream",
     "text": [
      "enter a number and press enter:- 52\n",
      "54\n"
     ]
    }
   ],
   "source": [
    "x=input(\"enter a number and press enter:- \")\n",
    "print(x+2)"
   ]
  },
  {
   "cell_type": "code",
   "execution_count": 3,
   "metadata": {},
   "outputs": [
    {
     "name": "stdout",
     "output_type": "stream",
     "text": [
      "[10, 13, 16, 19, 22, 25, 28]\n",
      "[30, 26, 22, 18, 14]\n"
     ]
    }
   ],
   "source": [
    "print(range(10,30,3))\n",
    "print(range(30,10,-4))"
   ]
  },
  {
   "cell_type": "code",
   "execution_count": 4,
   "metadata": {},
   "outputs": [
    {
     "data": {
      "text/plain": [
       "list"
      ]
     },
     "execution_count": 4,
     "metadata": {},
     "output_type": "execute_result"
    }
   ],
   "source": [
    "x = [0.5, 0.6] \n",
    "type(x)"
   ]
  },
  {
   "cell_type": "code",
   "execution_count": 6,
   "metadata": {},
   "outputs": [
    {
     "data": {
      "text/plain": [
       "list"
      ]
     },
     "execution_count": 6,
     "metadata": {},
     "output_type": "execute_result"
    }
   ],
   "source": [
    "x = [True, False]\n",
    "type(x)"
   ]
  },
  {
   "cell_type": "code",
   "execution_count": 7,
   "metadata": {},
   "outputs": [
    {
     "data": {
      "text/plain": [
       "tuple"
      ]
     },
     "execution_count": 7,
     "metadata": {},
     "output_type": "execute_result"
    }
   ],
   "source": [
    "x = (\"a\", \"b\", \"c\") \n",
    "type(x)"
   ]
  },
  {
   "cell_type": "code",
   "execution_count": 12,
   "metadata": {},
   "outputs": [
    {
     "data": {
      "text/plain": [
       "[1, 4, 6, 12, 8, 10]"
      ]
     },
     "execution_count": 12,
     "metadata": {},
     "output_type": "execute_result"
    }
   ],
   "source": [
    "list1 = [1, 4, 6, 8, 10]\n",
    "list1[-1]\n",
    "list1.insert(3,12)# name_of_list(position, element to be inserted)\n",
    "list1"
   ]
  },
  {
   "cell_type": "code",
   "execution_count": 38,
   "metadata": {},
   "outputs": [
    {
     "name": "stdout",
     "output_type": "stream",
     "text": [
      "990\n",
      "[ 21.   59.   87.5]\n"
     ]
    }
   ],
   "source": [
    "x=range(2,100,5)\n",
    "print sum(x)\n",
    "import numpy as np\n",
    "print np.percentile(x,[20,60,90])#pass all wanted percentiles as a list"
   ]
  },
  {
   "cell_type": "code",
   "execution_count": 39,
   "metadata": {},
   "outputs": [
    {
     "name": "stdout",
     "output_type": "stream",
     "text": [
      "47.5\n"
     ]
    }
   ],
   "source": [
    "q1=np.percentile(x,25)\n",
    "q2=np.percentile(x,50)\n",
    "q3=np.percentile(x,75)\n",
    "IQR=q3-q1\n",
    "print IQR"
   ]
  },
  {
   "cell_type": "code",
   "execution_count": 40,
   "metadata": {},
   "outputs": [
    {
     "name": "stdout",
     "output_type": "stream",
     "text": [
      "-45.5\n",
      "144.5\n"
     ]
    }
   ],
   "source": [
    "upper_bound=q1-1.5*IQR\n",
    "lower_bound=q3+1.5*IQR\n",
    "print(upper_bound);print(lower_bound)"
   ]
  },
  {
   "cell_type": "code",
   "execution_count": 50,
   "metadata": {},
   "outputs": [
    {
     "name": "stdout",
     "output_type": "stream",
     "text": [
      "[[1 2 3]\n",
      " [4 5 6]]\n"
     ]
    },
    {
     "data": {
      "text/plain": [
       "numpy.ndarray"
      ]
     },
     "execution_count": 50,
     "metadata": {},
     "output_type": "execute_result"
    }
   ],
   "source": [
    "arr=np.array(range(1,7)).reshape(2,3)\n",
    "print arr\n",
    "type(arr)"
   ]
  },
  {
   "cell_type": "code",
   "execution_count": 60,
   "metadata": {},
   "outputs": [
    {
     "name": "stdout",
     "output_type": "stream",
     "text": [
      "3\n",
      "[4 5 6]\n",
      "[2 5]\n"
     ]
    },
    {
     "data": {
      "text/plain": [
       "3.5"
      ]
     },
     "execution_count": 60,
     "metadata": {},
     "output_type": "execute_result"
    }
   ],
   "source": [
    "print arr[0,2]\n",
    "print arr[1,:]\n",
    "print arr[:,1]\n",
    "print np.mean(arr)"
   ]
  },
  {
   "cell_type": "code",
   "execution_count": 65,
   "metadata": {},
   "outputs": [
    {
     "name": "stdout",
     "output_type": "stream",
     "text": [
      "3\n",
      "5\n",
      "7\n",
      "11\n",
      "***\n",
      "[3, 5, 7, 11]\n"
     ]
    }
   ],
   "source": [
    "x=[2,4,3,5,7,4,11]\n",
    "\n",
    "for i in x:\n",
    "    if(i%2!=0):\n",
    "        print(i)\n",
    "print(\"***\")\n",
    "#or\n",
    "print ([i for i in x if i%2!=0])"
   ]
  },
  {
   "cell_type": "code",
   "execution_count": 94,
   "metadata": {},
   "outputs": [],
   "source": [
    "x=[57,4,13,5,17,42,11,55]"
   ]
  },
  {
   "cell_type": "code",
   "execution_count": 95,
   "metadata": {},
   "outputs": [
    {
     "name": "stdout",
     "output_type": "stream",
     "text": [
      "13\n",
      "5\n",
      "17\n",
      "11\n"
     ]
    }
   ],
   "source": [
    "for i in x:\n",
    "    for j in range(2,i/2+1):\n",
    "        if(i%j==0):\n",
    "            break\n",
    "    else:\n",
    "        print i"
   ]
  },
  {
   "cell_type": "code",
   "execution_count": 107,
   "metadata": {},
   "outputs": [
    {
     "name": "stdout",
     "output_type": "stream",
     "text": [
      "[[1 2 3]\n",
      " [4 5 6]]\n",
      "[[1 4]\n",
      " [2 5]\n",
      " [3 6]]\n"
     ]
    },
    {
     "data": {
      "text/plain": [
       "matrix([[14, 32],\n",
       "        [32, 77]])"
      ]
     },
     "execution_count": 107,
     "metadata": {},
     "output_type": "execute_result"
    }
   ],
   "source": [
    "x=np.array([[1,2,3],[4,5,6]])\n",
    "y=np.array([[1,4],[2,5],[3,6]])\n",
    "print x\n",
    "print y\n",
    "mx = np.matrix(x)\n",
    "my = np.matrix(y) \n",
    "mx * my"
   ]
  },
  {
   "cell_type": "code",
   "execution_count": null,
   "metadata": {},
   "outputs": [],
   "source": [
    "#Average vs Mean      "
   ]
  },
  {
   "cell_type": "code",
   "execution_count": 116,
   "metadata": {},
   "outputs": [
    {
     "name": "stdout",
     "output_type": "stream",
     "text": [
      "23.3333333333\n",
      "21.5\n",
      "----------\n",
      "113.846153846\n",
      "22.0\n"
     ]
    }
   ],
   "source": [
    "#define a list\n",
    "x=[2,4,21,34,22,9,20,58,43,43,23,1]\n",
    "xx=np.array(x)\n",
    "print(np.mean(xx))\n",
    "print(np.median(xx))\n",
    "print(\"----------\")\n",
    "#now lets append a outlier to the list\n",
    "x.append(1200)\n",
    "xx=np.array(x)\n",
    "print(np.mean(xx))\n",
    "print(np.median(xx))\n",
    "# on addin gthe outlier the median remianined almost same but the mean changed drastically\n",
    "#hence Mean is influenced by outliers but median is not."
   ]
  },
  {
   "cell_type": "code",
   "execution_count": null,
   "metadata": {},
   "outputs": [],
   "source": []
  }
 ],
 "metadata": {
  "kernelspec": {
   "display_name": "Python 2",
   "language": "python",
   "name": "python2"
  },
  "language_info": {
   "codemirror_mode": {
    "name": "ipython",
    "version": 2
   },
   "file_extension": ".py",
   "mimetype": "text/x-python",
   "name": "python",
   "nbconvert_exporter": "python",
   "pygments_lexer": "ipython2",
   "version": "2.7.14"
  }
 },
 "nbformat": 4,
 "nbformat_minor": 1
}
